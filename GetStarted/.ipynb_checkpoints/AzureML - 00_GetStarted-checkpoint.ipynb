{
 "cells": [
  {
   "cell_type": "code",
   "execution_count": 3,
   "metadata": {},
   "outputs": [
    {
     "name": "stdout",
     "output_type": "stream",
     "text": [
      "0.1.68\n"
     ]
    }
   ],
   "source": [
    "import azureml.core\n",
    "from azureml.core import Workspace\n",
    "print(azureml.core.VERSION)"
   ]
  },
  {
   "cell_type": "code",
   "execution_count": null,
   "metadata": {},
   "outputs": [],
   "source": [
    "<"
   ]
  },
  {
   "cell_type": "code",
   "execution_count": 5,
   "metadata": {},
   "outputs": [
    {
     "name": "stdout",
     "output_type": "stream",
     "text": [
      "Found the config file in: C:\\Users\\mafranke.EUROPE\\config.json\n"
     ]
    }
   ],
   "source": [
    "ws = Workspace.from_config()"
   ]
  },
  {
   "cell_type": "code",
   "execution_count": 7,
   "metadata": {},
   "outputs": [
    {
     "data": {
      "text/plain": [
       "{'id': '/subscriptions/b208dd3b-2592-4e14-a626-cd6941369193/resourceGroups/Demos/providers/Microsoft.MachineLearningServices/workspaces/PlaygroundMLWorkspace',\n",
       " 'name': 'PlaygroundMLWorkspace',\n",
       " 'location': 'westeurope',\n",
       " 'type': 'Microsoft.MachineLearningServices/workspaces',\n",
       " 'description': '',\n",
       " 'friendlyName': '',\n",
       " 'containerRegistry': '/subscriptions/b208dd3b-2592-4e14-a626-cd6941369193/resourcegroups/demos/providers/microsoft.containerregistry/registries/playgroundmlwo9484445750',\n",
       " 'keyVault': '/subscriptions/b208dd3b-2592-4e14-a626-cd6941369193/resourcegroups/demos/providers/microsoft.keyvault/vaults/playgroundmlwo8951480593',\n",
       " 'applicationInsights': '/subscriptions/b208dd3b-2592-4e14-a626-cd6941369193/resourcegroups/demos/providers/microsoft.insights/components/playgroundmlwo6044255436',\n",
       " 'identityPrincipalId': 'acde2ca7-e242-4737-a149-f2660a68eae0',\n",
       " 'identityTenantId': '72f988bf-86f1-41af-91ab-2d7cd011db47',\n",
       " 'identityType': 'SystemAssigned',\n",
       " 'storageAccount': '/subscriptions/b208dd3b-2592-4e14-a626-cd6941369193/resourcegroups/demos/providers/microsoft.storage/storageaccounts/playgroundmlwo0207243719'}"
      ]
     },
     "execution_count": 7,
     "metadata": {},
     "output_type": "execute_result"
    }
   ],
   "source": [
    "ws.get_details()"
   ]
  },
  {
   "cell_type": "markdown",
   "metadata": {},
   "source": [
    "<h2>Use the workspace</h2>"
   ]
  },
  {
   "cell_type": "code",
   "execution_count": 8,
   "metadata": {},
   "outputs": [],
   "source": [
    "from azureml.core import Experiment\n",
    "\n",
    "# create a new experiment\n",
    "exp = Experiment(workspace=ws, name='myexp')\n",
    "\n",
    "# start a run\n",
    "run = exp.start_logging()\n",
    "\n",
    "# log a number\n",
    "run.log('my magic number', 42)\n",
    "\n",
    "# log a list (Fibonacci numbers)\n",
    "run.log_list('my list', [1, 1, 2, 3, 5, 8, 13, 21, 34, 55]) \n",
    "\n",
    "# finish the run\n",
    "run.complete()"
   ]
  },
  {
   "cell_type": "markdown",
   "metadata": {},
   "source": [
    "<h2>View Logged Results</h2>"
   ]
  },
  {
   "cell_type": "code",
   "execution_count": 10,
   "metadata": {},
   "outputs": [
    {
     "name": "stdout",
     "output_type": "stream",
     "text": [
      "https://mlworkspace.azure.ai/portal/subscriptions/b208dd3b-2592-4e14-a626-cd6941369193/resourceGroups/Demos/providers/Microsoft.MachineLearningServices/workspaces/PlaygroundMLWorkspace/experiments/myexp/runs/0627e099-60d5-4b5b-b359-c4ec278dda70\n"
     ]
    }
   ],
   "source": [
    "print(run.get_portal_url())"
   ]
  },
  {
   "cell_type": "code",
   "execution_count": null,
   "metadata": {},
   "outputs": [],
   "source": []
  }
 ],
 "metadata": {
  "kernelspec": {
   "display_name": "Python 3",
   "language": "python",
   "name": "python3"
  },
  "language_info": {
   "codemirror_mode": {
    "name": "ipython",
    "version": 3
   },
   "file_extension": ".py",
   "mimetype": "text/x-python",
   "name": "python",
   "nbconvert_exporter": "python",
   "pygments_lexer": "ipython3",
   "version": "3.6.7"
  }
 },
 "nbformat": 4,
 "nbformat_minor": 2
}
