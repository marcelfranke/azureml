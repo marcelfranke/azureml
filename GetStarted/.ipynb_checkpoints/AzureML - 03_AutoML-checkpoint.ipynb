{
 "cells": [
  {
   "cell_type": "markdown",
   "metadata": {},
   "source": [
    "<h2>Set up your development environment</h2>"
   ]
  },
  {
   "cell_type": "code",
   "execution_count": 2,
   "metadata": {},
   "outputs": [],
   "source": [
    "import azureml.core\n",
    "import pandas as pd\n",
    "from azureml.core.workspace import Workspace\n",
    "from azureml.train.automl.run import AutoMLRun\n",
    "import time\n",
    "import logging\n",
    "from sklearn import datasets\n",
    "from matplotlib import pyplot as plt\n",
    "from matplotlib.pyplot import imshow\n",
    "import random\n",
    "import numpy as np"
   ]
  },
  {
   "cell_type": "code",
   "execution_count": 3,
   "metadata": {},
   "outputs": [
    {
     "name": "stdout",
     "output_type": "stream",
     "text": [
      "Found the config file in: C:\\Development\\GitHub\\marcelfranke\\azureml\\GetStarted\\config.json\n",
      "Performing interactive authentication. Please follow the instructions on the terminal.\n"
     ]
    },
    {
     "name": "stderr",
     "output_type": "stream",
     "text": [
      "Note, we have launched a browser for you to login. For old experience with device code, use \"az login --use-device-code\"\n",
      "----------------------------------------\n",
      "Exception happened during processing of request from ('127.0.0.1', 54311)\n",
      "Traceback (most recent call last):\n",
      "  File \"c:\\users\\mafranke.europe\\appdata\\local\\conda\\conda\\envs\\azureml\\lib\\socketserver.py\", line 317, in _handle_request_noblock\n",
      "    self.process_request(request, client_address)\n",
      "  File \"c:\\users\\mafranke.europe\\appdata\\local\\conda\\conda\\envs\\azureml\\lib\\socketserver.py\", line 348, in process_request\n",
      "    self.finish_request(request, client_address)\n",
      "  File \"c:\\users\\mafranke.europe\\appdata\\local\\conda\\conda\\envs\\azureml\\lib\\socketserver.py\", line 361, in finish_request\n",
      "    self.RequestHandlerClass(request, client_address, self)\n",
      "  File \"c:\\users\\mafranke.europe\\appdata\\local\\conda\\conda\\envs\\azureml\\lib\\socketserver.py\", line 721, in __init__\n",
      "    self.handle()\n",
      "  File \"c:\\users\\mafranke.europe\\appdata\\local\\conda\\conda\\envs\\azureml\\lib\\http\\server.py\", line 418, in handle\n",
      "    self.handle_one_request()\n",
      "  File \"c:\\users\\mafranke.europe\\appdata\\local\\conda\\conda\\envs\\azureml\\lib\\http\\server.py\", line 386, in handle_one_request\n",
      "    self.raw_requestline = self.rfile.readline(65537)\n",
      "  File \"c:\\users\\mafranke.europe\\appdata\\local\\conda\\conda\\envs\\azureml\\lib\\socket.py\", line 586, in readinto\n",
      "    return self._sock.recv_into(b)\n",
      "ConnectionResetError: [WinError 10054] An existing connection was forcibly closed by the remote host\n",
      "----------------------------------------\n",
      "You have logged in. Now let us find all the subscriptions to which you have access...\n"
     ]
    },
    {
     "name": "stdout",
     "output_type": "stream",
     "text": [
      "Interactive authentication successfully completed.\n"
     ]
    },
    {
     "data": {
      "text/html": [
       "<div>\n",
       "<style scoped>\n",
       "    .dataframe tbody tr th:only-of-type {\n",
       "        vertical-align: middle;\n",
       "    }\n",
       "\n",
       "    .dataframe tbody tr th {\n",
       "        vertical-align: top;\n",
       "    }\n",
       "\n",
       "    .dataframe thead th {\n",
       "        text-align: right;\n",
       "    }\n",
       "</style>\n",
       "<table border=\"1\" class=\"dataframe\">\n",
       "  <thead>\n",
       "    <tr style=\"text-align: right;\">\n",
       "      <th></th>\n",
       "      <th></th>\n",
       "    </tr>\n",
       "  </thead>\n",
       "  <tbody>\n",
       "    <tr>\n",
       "      <th>SDK version</th>\n",
       "      <td>0.1.68</td>\n",
       "    </tr>\n",
       "    <tr>\n",
       "      <th>Subscription ID</th>\n",
       "      <td>b208dd3b-2592-4e14-a626-cd6941369193</td>\n",
       "    </tr>\n",
       "    <tr>\n",
       "      <th>Workspace</th>\n",
       "      <td>PlaygroundMLWorkspace</td>\n",
       "    </tr>\n",
       "    <tr>\n",
       "      <th>Resource Group</th>\n",
       "      <td>Demos</td>\n",
       "    </tr>\n",
       "    <tr>\n",
       "      <th>Location</th>\n",
       "      <td>westeurope</td>\n",
       "    </tr>\n",
       "    <tr>\n",
       "      <th>Project Directory</th>\n",
       "      <td>./sample_projects/automl-local-classification</td>\n",
       "    </tr>\n",
       "  </tbody>\n",
       "</table>\n",
       "</div>"
      ],
      "text/plain": [
       "                                                                \n",
       "SDK version        0.1.68                                       \n",
       "Subscription ID    b208dd3b-2592-4e14-a626-cd6941369193         \n",
       "Workspace          PlaygroundMLWorkspace                        \n",
       "Resource Group     Demos                                        \n",
       "Location           westeurope                                   \n",
       "Project Directory  ./sample_projects/automl-local-classification"
      ]
     },
     "execution_count": 3,
     "metadata": {},
     "output_type": "execute_result"
    }
   ],
   "source": [
    "ws = Workspace.from_config()\n",
    "# project folder to save your local files\n",
    "project_folder = './sample_projects/automl-local-classification'\n",
    "# choose a name for the run history container in the workspace\n",
    "experiment_name = 'automl-classifier'\n",
    "\n",
    "import os\n",
    "\n",
    "output = {}\n",
    "output['SDK version'] = azureml.core.VERSION\n",
    "output['Subscription ID'] = ws.subscription_id\n",
    "output['Workspace'] = ws.name\n",
    "output['Resource Group'] = ws.resource_group\n",
    "output['Location'] = ws.location\n",
    "output['Project Directory'] = project_folder\n",
    "pd.set_option('display.max_colwidth', -1)\n",
    "pd.DataFrame(data=output, index=['']).T"
   ]
  },
  {
   "cell_type": "markdown",
   "metadata": {},
   "source": [
    "<h2>Explore data</h2>"
   ]
  },
  {
   "cell_type": "code",
   "execution_count": 5,
   "metadata": {},
   "outputs": [],
   "source": [
    "from sklearn import datasets\n",
    "\n",
    "digits = datasets.load_digits()\n",
    "\n",
    "# Exclude the first 100 rows from training so that they can be used for test.\n",
    "X_train = digits.data[100:,:]\n",
    "y_train = digits.target[100:]"
   ]
  },
  {
   "cell_type": "markdown",
   "metadata": {},
   "source": [
    "<h3>Display some sample images</h3>"
   ]
  },
  {
   "cell_type": "code",
   "execution_count": 6,
   "metadata": {},
   "outputs": [
    {
     "data": {
      "image/png": "[encoded data removed]",
      "text/plain": [
       "<Figure size 1152x432 with 30 Axes>"
      ]
     },
     "metadata": {
      "needs_background": "light"
     },
     "output_type": "display_data"
    }
   ],
   "source": [
    "count = 0\n",
    "sample_size = 30\n",
    "plt.figure(figsize = (16, 6))\n",
    "for i in np.random.permutation(X_train.shape[0])[:sample_size]:\n",
    "    count = count + 1\n",
    "    plt.subplot(1, sample_size, count)\n",
    "    plt.axhline('')\n",
    "    plt.axvline('')\n",
    "    plt.text(x = 2, y = -2, s = y_train[i], fontsize = 18)\n",
    "    plt.imshow(X_train[i].reshape(8, 8), cmap = plt.cm.Greys)\n",
    "plt.show()"
   ]
  },
  {
   "cell_type": "markdown",
   "metadata": {},
   "source": [
    "<h2>Train a model</h2>"
   ]
  },
  {
   "cell_type": "markdown",
   "metadata": {},
   "source": [
    "<h3>Define settings</h3>"
   ]
  },
  {
   "cell_type": "code",
   "execution_count": 7,
   "metadata": {},
   "outputs": [],
   "source": [
    "from azureml.train.automl import AutoMLConfig\n",
    "\n",
    "##Local compute \n",
    "Automl_config = AutoMLConfig(task = 'classification',\n",
    "                             primary_metric = 'AUC_weighted',\n",
    "                             max_time_sec = 12000,\n",
    "                             iterations = 20,\n",
    "                             n_cross_validations = 3,\n",
    "                             preprocess = False,\n",
    "                             exit_score = 0.9985,\n",
    "                             blacklist_algos = ['kNN','LinearSVM'],\n",
    "                             X = X_train,\n",
    "                             y = y_train,\n",
    "                             path=project_folder)"
   ]
  },
  {
   "cell_type": "markdown",
   "metadata": {},
   "source": [
    "<h3>Run the experiment</h3>"
   ]
  },
  {
   "cell_type": "code",
   "execution_count": 8,
   "metadata": {},
   "outputs": [
    {
     "name": "stderr",
     "output_type": "stream",
     "text": [
      "WARNING:root:psutil not found, disabling enforce_time_on_windows. enforce_time_on_windows requires psutil library to be installed.\n"
     ]
    },
    {
     "name": "stdout",
     "output_type": "stream",
     "text": [
      "Parent Run ID: AutoML_83bee821-a347-46e5-a287-4772c64eeef5\n",
      "***********************************************************************************************\n",
      "ITERATION: The iteration being evaluated.\n",
      "PIPELINE: A summary description of the pipeline being evaluated.\n",
      "DURATION: Time taken for the current iteration.\n",
      "METRIC: The result of computing score on the fitted pipeline.\n",
      "BEST: The best observed score thus far.\n",
      "***********************************************************************************************\n",
      "\n",
      " ITERATION     PIPELINE                               DURATION                METRIC      BEST\n",
      "         0      MaxAbsScaler SGDClassifierWrapper     0:00:30.943396           0.994     0.994\n",
      "         1      RobustScaler NBWrapper                0:00:25.260396           0.992     0.994\n",
      "         2      RobustScaler KNeighborsClassifier     0:00:22.633109           0.999     0.999\n",
      "Stopping criteria reached at iteration 3. Ending experiment."
     ]
    }
   ],
   "source": [
    "from azureml.core.experiment import Experiment\n",
    "experiment=Experiment(ws, experiment_name)\n",
    "local_run = experiment.submit(Automl_config, show_output=True)"
   ]
  },
  {
   "cell_type": "markdown",
   "metadata": {},
   "source": [
    "<h2>Explore the results</h2>"
   ]
  },
  {
   "cell_type": "code",
   "execution_count": 9,
   "metadata": {},
   "outputs": [
    {
     "data": {
      "application/vnd.jupyter.widget-view+json": {
       "model_id": "40fdac78fdc745e5b4c3a8a64231e52f",
       "version_major": 2,
       "version_minor": 0
      },
      "text/plain": [
       "_AutoML(widget_settings={'childWidgetDisplay': 'popup'})"
      ]
     },
     "metadata": {},
     "output_type": "display_data"
    }
   ],
   "source": [
    "from azureml.train.widgets import RunDetails\n",
    "RunDetails(local_run).show()"
   ]
  },
  {
   "cell_type": "markdown",
   "metadata": {},
   "source": [
    "<h3>Retrieve all iterations</h3>"
   ]
  },
  {
   "cell_type": "code",
   "execution_count": 10,
   "metadata": {},
   "outputs": [
    {
     "data": {
      "text/html": [
       "<div>\n",
       "<style scoped>\n",
       "    .dataframe tbody tr th:only-of-type {\n",
       "        vertical-align: middle;\n",
       "    }\n",
       "\n",
       "    .dataframe tbody tr th {\n",
       "        vertical-align: top;\n",
       "    }\n",
       "\n",
       "    .dataframe thead th {\n",
       "        text-align: right;\n",
       "    }\n",
       "</style>\n",
       "<table border=\"1\" class=\"dataframe\">\n",
       "  <thead>\n",
       "    <tr style=\"text-align: right;\">\n",
       "      <th></th>\n",
       "      <th>0</th>\n",
       "      <th>1</th>\n",
       "      <th>2</th>\n",
       "    </tr>\n",
       "  </thead>\n",
       "  <tbody>\n",
       "    <tr>\n",
       "      <th>AUC_macro</th>\n",
       "      <td>0.993649</td>\n",
       "      <td>0.991635</td>\n",
       "      <td>0.999369</td>\n",
       "    </tr>\n",
       "    <tr>\n",
       "      <th>AUC_micro</th>\n",
       "      <td>0.974963</td>\n",
       "      <td>0.992614</td>\n",
       "      <td>0.999472</td>\n",
       "    </tr>\n",
       "    <tr>\n",
       "      <th>AUC_weighted</th>\n",
       "      <td>0.993672</td>\n",
       "      <td>0.991555</td>\n",
       "      <td>0.999378</td>\n",
       "    </tr>\n",
       "    <tr>\n",
       "      <th>AUC_weighted_max</th>\n",
       "      <td>0.993672</td>\n",
       "      <td>0.993672</td>\n",
       "      <td>0.999378</td>\n",
       "    </tr>\n",
       "    <tr>\n",
       "      <th>accuracy</th>\n",
       "      <td>0.793793</td>\n",
       "      <td>0.900423</td>\n",
       "      <td>0.979377</td>\n",
       "    </tr>\n",
       "    <tr>\n",
       "      <th>average_precision_score_macro</th>\n",
       "      <td>0.956203</td>\n",
       "      <td>0.944573</td>\n",
       "      <td>0.996192</td>\n",
       "    </tr>\n",
       "    <tr>\n",
       "      <th>average_precision_score_micro</th>\n",
       "      <td>0.844175</td>\n",
       "      <td>0.947317</td>\n",
       "      <td>0.996926</td>\n",
       "    </tr>\n",
       "    <tr>\n",
       "      <th>average_precision_score_weighted</th>\n",
       "      <td>0.956788</td>\n",
       "      <td>0.944635</td>\n",
       "      <td>0.996167</td>\n",
       "    </tr>\n",
       "    <tr>\n",
       "      <th>balanced_accuracy</th>\n",
       "      <td>0.881860</td>\n",
       "      <td>0.944746</td>\n",
       "      <td>0.988598</td>\n",
       "    </tr>\n",
       "    <tr>\n",
       "      <th>f1_score_macro</th>\n",
       "      <td>0.790292</td>\n",
       "      <td>0.901021</td>\n",
       "      <td>0.979316</td>\n",
       "    </tr>\n",
       "    <tr>\n",
       "      <th>f1_score_micro</th>\n",
       "      <td>0.793793</td>\n",
       "      <td>0.900423</td>\n",
       "      <td>0.979377</td>\n",
       "    </tr>\n",
       "    <tr>\n",
       "      <th>f1_score_weighted</th>\n",
       "      <td>0.798702</td>\n",
       "      <td>0.900982</td>\n",
       "      <td>0.979301</td>\n",
       "    </tr>\n",
       "    <tr>\n",
       "      <th>log_loss</th>\n",
       "      <td>0.684495</td>\n",
       "      <td>1.841312</td>\n",
       "      <td>0.088572</td>\n",
       "    </tr>\n",
       "    <tr>\n",
       "      <th>norm_macro_recall</th>\n",
       "      <td>0.762820</td>\n",
       "      <td>0.889516</td>\n",
       "      <td>0.977211</td>\n",
       "    </tr>\n",
       "    <tr>\n",
       "      <th>precision_score_macro</th>\n",
       "      <td>0.901477</td>\n",
       "      <td>0.907265</td>\n",
       "      <td>0.979753</td>\n",
       "    </tr>\n",
       "    <tr>\n",
       "      <th>precision_score_micro</th>\n",
       "      <td>0.793793</td>\n",
       "      <td>0.900423</td>\n",
       "      <td>0.979377</td>\n",
       "    </tr>\n",
       "    <tr>\n",
       "      <th>precision_score_weighted</th>\n",
       "      <td>0.902639</td>\n",
       "      <td>0.907298</td>\n",
       "      <td>0.979837</td>\n",
       "    </tr>\n",
       "    <tr>\n",
       "      <th>recall_score_macro</th>\n",
       "      <td>0.786538</td>\n",
       "      <td>0.900564</td>\n",
       "      <td>0.979490</td>\n",
       "    </tr>\n",
       "    <tr>\n",
       "      <th>recall_score_micro</th>\n",
       "      <td>0.793793</td>\n",
       "      <td>0.900423</td>\n",
       "      <td>0.979377</td>\n",
       "    </tr>\n",
       "    <tr>\n",
       "      <th>recall_score_weighted</th>\n",
       "      <td>0.793793</td>\n",
       "      <td>0.900423</td>\n",
       "      <td>0.979377</td>\n",
       "    </tr>\n",
       "    <tr>\n",
       "      <th>weighted_accuracy</th>\n",
       "      <td>0.800938</td>\n",
       "      <td>0.900086</td>\n",
       "      <td>0.979289</td>\n",
       "    </tr>\n",
       "  </tbody>\n",
       "</table>\n",
       "</div>"
      ],
      "text/plain": [
       "                                         0         1         2\n",
       "AUC_macro                         0.993649  0.991635  0.999369\n",
       "AUC_micro                         0.974963  0.992614  0.999472\n",
       "AUC_weighted                      0.993672  0.991555  0.999378\n",
       "AUC_weighted_max                  0.993672  0.993672  0.999378\n",
       "accuracy                          0.793793  0.900423  0.979377\n",
       "average_precision_score_macro     0.956203  0.944573  0.996192\n",
       "average_precision_score_micro     0.844175  0.947317  0.996926\n",
       "average_precision_score_weighted  0.956788  0.944635  0.996167\n",
       "balanced_accuracy                 0.881860  0.944746  0.988598\n",
       "f1_score_macro                    0.790292  0.901021  0.979316\n",
       "f1_score_micro                    0.793793  0.900423  0.979377\n",
       "f1_score_weighted                 0.798702  0.900982  0.979301\n",
       "log_loss                          0.684495  1.841312  0.088572\n",
       "norm_macro_recall                 0.762820  0.889516  0.977211\n",
       "precision_score_macro             0.901477  0.907265  0.979753\n",
       "precision_score_micro             0.793793  0.900423  0.979377\n",
       "precision_score_weighted          0.902639  0.907298  0.979837\n",
       "recall_score_macro                0.786538  0.900564  0.979490\n",
       "recall_score_micro                0.793793  0.900423  0.979377\n",
       "recall_score_weighted             0.793793  0.900423  0.979377\n",
       "weighted_accuracy                 0.800938  0.900086  0.979289"
      ]
     },
     "execution_count": 10,
     "metadata": {},
     "output_type": "execute_result"
    }
   ],
   "source": [
    "children = list(local_run.get_children())\n",
    "metricslist = {}\n",
    "for run in children:\n",
    "    properties = run.get_properties()\n",
    "    metrics = {k: v for k, v in run.get_metrics().items() if isinstance(v, float)}\n",
    "    metricslist[int(properties['iteration'])] = metrics\n",
    "\n",
    "import pandas as pd\n",
    "rundata = pd.DataFrame(metricslist).sort_index(1)\n",
    "rundata"
   ]
  },
  {
   "cell_type": "markdown",
   "metadata": {},
   "source": [
    "<h2>Register the best model</h2>"
   ]
  },
  {
   "cell_type": "code",
   "execution_count": 11,
   "metadata": {},
   "outputs": [
    {
     "name": "stdout",
     "output_type": "stream",
     "text": [
      "Registering model AutoML83bee821abest\n"
     ]
    },
    {
     "data": {
      "text/plain": [
       "'AutoML83bee821abest'"
      ]
     },
     "execution_count": 11,
     "metadata": {},
     "output_type": "execute_result"
    }
   ],
   "source": [
    "# find the run with the highest accuracy value.\n",
    "best_run, fitted_model = local_run.get_output()\n",
    "\n",
    "# register model in workspace\n",
    "description = 'Automated Machine Learning Model'\n",
    "tags = None\n",
    "local_run.register_model(description=description, tags=tags)\n",
    "local_run.model_id # Use this id to deploy the model as a web service in Azure"
   ]
  },
  {
   "cell_type": "markdown",
   "metadata": {},
   "source": [
    "<h2>Test the best model</h2>"
   ]
  },
  {
   "cell_type": "code",
   "execution_count": 12,
   "metadata": {},
   "outputs": [
    {
     "data": {
      "image/png": "[encoded data removed]",
      "text/plain": [
       "<Figure size 1440x72 with 30 Axes>"
      ]
     },
     "metadata": {
      "needs_background": "light"
     },
     "output_type": "display_data"
    }
   ],
   "source": [
    "# find 30 random samples from test set\n",
    "n = 30\n",
    "X_test = digits.data[:100, :]\n",
    "y_test = digits.target[:100]\n",
    "sample_indices = np.random.permutation(X_test.shape[0])[0:n]\n",
    "test_samples = X_test[sample_indices]\n",
    "\n",
    "\n",
    "# predict using the  model\n",
    "result = fitted_model.predict(test_samples)\n",
    "\n",
    "# compare actual value vs. the predicted values:\n",
    "i = 0\n",
    "plt.figure(figsize = (20, 1))\n",
    "\n",
    "for s in sample_indices:\n",
    "    plt.subplot(1, n, i + 1)\n",
    "    plt.axhline('')\n",
    "    plt.axvline('')\n",
    "\n",
    "    # use different color for misclassified sample\n",
    "    font_color = 'red' if y_test[s] != result[i] else 'black'\n",
    "    clr_map = plt.cm.gray if y_test[s] != result[i] else plt.cm.Greys\n",
    "\n",
    "    plt.text(x = 2, y = -2, s = result[i], fontsize = 18, color = font_color)\n",
    "    plt.imshow(X_test[s].reshape(8, 8), cmap = clr_map)\n",
    "\n",
    "    i = i + 1\n",
    "plt.show()"
   ]
  },
  {
   "cell_type": "code",
   "execution_count": null,
   "metadata": {},
   "outputs": [],
   "source": []
  }
 ],
 "metadata": {
  "kernelspec": {
   "display_name": "Python 3",
   "language": "python",
   "name": "python3"
  },
  "language_info": {
   "codemirror_mode": {
    "name": "ipython",
    "version": 3
   },
   "file_extension": ".py",
   "mimetype": "text/x-python",
   "name": "python",
   "nbconvert_exporter": "python",
   "pygments_lexer": "ipython3",
   "version": "3.6.7"
  }
 },
 "nbformat": 4,
 "nbformat_minor": 2
}
