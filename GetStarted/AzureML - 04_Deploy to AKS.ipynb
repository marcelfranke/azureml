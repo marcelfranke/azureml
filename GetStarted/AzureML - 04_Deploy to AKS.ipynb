{
 "cells": [
  {
   "cell_type": "markdown",
   "metadata": {},
   "source": [
    "<h2>Initialize the workspace</h2>"
   ]
  },
  {
   "cell_type": "code",
   "execution_count": 33,
   "metadata": {},
   "outputs": [
    {
     "name": "stdout",
     "output_type": "stream",
     "text": [
      "Found the config file in: C:\\Development\\GitHub\\marcelfranke\\azureml\\GetStarted\\config.json\n",
      "PlaygroundMLWorkspace\twesteurope\tDemos\twesteurope\n"
     ]
    }
   ],
   "source": [
    "from azureml.core import Workspace\n",
    "\n",
    "# Load existing workspace from the config file info.\n",
    "ws = Workspace.from_config()\n",
    "print(ws.name, ws.location, ws.resource_group, ws.location, sep = '\\t')"
   ]
  },
  {
   "cell_type": "markdown",
   "metadata": {},
   "source": [
    "<h2>Take Image from AzureML Workspace</h2>"
   ]
  },
  {
   "cell_type": "code",
   "execution_count": 37,
   "metadata": {},
   "outputs": [
    {
     "name": "stdout",
     "output_type": "stream",
     "text": [
      "ContainerImage(workspace=<azureml.core.workspace.Workspace object at 0x0000021A60CC0358>, name=sklearn-mnist-svc, id=sklearn-mnist-svc:1, tags={}, properties={}, version=1)\n"
     ]
    }
   ],
   "source": [
    "from azureml.core.image import ContainerImage\n",
    "\n",
    "#list all images for given name\n",
    "image = ContainerImage.list(ws, 'sklearn-mnist-svc')\n",
    "#get the firts image from the list\n",
    "image = image[0]\n",
    "print(image)"
   ]
  },
  {
   "cell_type": "markdown",
   "metadata": {},
   "source": [
    "<h2>Create a AKS Cluster</h2>"
   ]
  },
  {
   "cell_type": "code",
   "execution_count": 12,
   "metadata": {},
   "outputs": [
    {
     "name": "stdout",
     "output_type": "stream",
     "text": [
      "Creating.........................................................................................................................................................\n",
      "SucceededProvisioning operation finished, operation \"Succeeded\"\n",
      "Succeeded\n",
      "None\n"
     ]
    }
   ],
   "source": [
    "from azureml.core.compute import AksCompute, ComputeTarget\n",
    "\n",
    "# Use the default configuration (you can also provide parameters to customize this)\n",
    "prov_config = AksCompute.provisioning_configuration()\n",
    "\n",
    "aks_name = 'aml-aks-1'\n",
    "# Create the cluster\n",
    "aks_target = ComputeTarget.create(workspace = ws, \n",
    "                                  name = aks_name, \n",
    "                                  provisioning_configuration = prov_config)\n",
    "\n",
    "# Wait for the create process to complete\n",
    "aks_target.wait_for_completion(show_output = True)\n",
    "print(aks_target.provisioning_state)\n",
    "print(aks_target.provisioning_errors)"
   ]
  },
  {
   "cell_type": "markdown",
   "metadata": {},
   "source": [
    "<h2>Attach existing AKS cluster</h2>"
   ]
  },
  {
   "cell_type": "code",
   "execution_count": 10,
   "metadata": {},
   "outputs": [
    {
     "name": "stdout",
     "output_type": "stream",
     "text": [
      "Creating........\n",
      "FailedProvisioning operation finished, operation \"Failed\"\n",
      "Async operation failed with\n",
      "StatusCode: 500\n",
      "Message: An internal server error occurred. Please try again. If the problem persists, contact support\n",
      "Compute object has provisioning state \"Failed\"\n",
      "and provisioning errors: [{'error': {'code': 'InternalServerError', 'statusCode': 500, 'message': 'An internal server error occurred. Please try again. If the problem persists, contact support', 'details': [{'code': 'InternalError', 'message': \"Retries exceeded in deploying image pull secret playgroundmlwo9484445750acrkey, exceptions occured are: Request failed with internal error. StatusCode 'InternalServerError', ReasonPhrase 'KubernetesError'. Details Operation returned an invalid status code 'Forbidden',Request failed with internal error. StatusCode 'InternalServerError', ReasonPhrase 'KubernetesError'. Details Operation returned an invalid status code 'Forbidden',Request failed with internal error. StatusCode 'InternalServerError', ReasonPhrase 'KubernetesError'. Details Operation returned an invalid status code 'Forbidden',Request failed with internal error. StatusCode 'InternalServerError', ReasonPhrase 'KubernetesError'. Details Operation returned an invalid status code 'Forbidden',Request failed with internal error. StatusCode 'InternalServerError', ReasonPhrase 'KubernetesError'. Details Operation returned an invalid status code 'Forbidden'\"}]}}]\n",
      "\n"
     ]
    }
   ],
   "source": [
    "from azureml.core.compute import AksCompute, ComputeTarget\n",
    "\n",
    "# Get the resource id from https://porta..azure.com -> Find your resource group -> click on the Kubernetes service -> Properties\n",
    "resource_id = '/subscriptions/b208dd3b-2592-4e14-a626-cd6941369193/resourcegroups/Demos/providers/Microsoft.ContainerService/managedClusters/PlaygroundAks'\n",
    "\n",
    "# Set to the name of the cluster\n",
    "cluster_name='PlaygroundAks'\n",
    "\n",
    "# Attatch the cluster to your workgroup\n",
    "aks_target = AksCompute.attach(workspace=ws, name=cluster_name, resource_id=resource_id)\n",
    "\n",
    "# Wait for the operation to complete\n",
    "aks_target.wait_for_completion(True)"
   ]
  },
  {
   "cell_type": "markdown",
   "metadata": {},
   "source": [
    "<h2>Deploy your web service</h2>"
   ]
  },
  {
   "cell_type": "code",
   "execution_count": 51,
   "metadata": {},
   "outputs": [
    {
     "name": "stdout",
     "output_type": "stream",
     "text": [
      "Creating service\n",
      "Running..\n",
      "SucceededAKS service creation operation finished, operation \"Succeeded\"\n",
      "Healthy\n"
     ]
    }
   ],
   "source": [
    "from azureml.core.webservice import Webservice, AksWebservice\n",
    "\n",
    "# Set configuration and service name\n",
    "aks_config = AksWebservice.deploy_configuration()\n",
    "aks_service_name ='sklearn-mnist-svc'\n",
    "\n",
    "# Deploy from image\n",
    "aks_service = Webservice.deploy_from_image(workspace = ws, \n",
    "                                            name = aks_service_name,\n",
    "                                            image = image,\n",
    "                                            deployment_config = aks_config,\n",
    "                                            deployment_target = aks_target)\n",
    "# Wait for the deployment to complete\n",
    "aks_service.wait_for_deployment(show_output = True)\n",
    "print(aks_service.state)"
   ]
  },
  {
   "cell_type": "markdown",
   "metadata": {},
   "source": [
    "<h2>Test the web service</h2>"
   ]
  },
  {
   "cell_type": "code",
   "execution_count": 48,
   "metadata": {},
   "outputs": [
    {
     "name": "stdout",
     "output_type": "stream",
     "text": [
      "POST to url http://40.68.199.133/api/v1/service/aml-aks-10cf707430ab/score\n",
      "label: 6\n",
      "prediction: [6]\n"
     ]
    }
   ],
   "source": [
    "import json\n",
    "import numpy as np\n",
    "\n",
    "from utils import load_data\n",
    "\n",
    "# note we also shrink the intensity values (X) from 0-255 to 0-1. This helps the neural network converge faster\n",
    "\n",
    "X_test = load_data('./data/test-images.gz', False) / 255.0\n",
    "y_test = load_data('./data/test-labels.gz', True).reshape(-1)\n",
    "\n",
    "# send a random row from the test set to score\n",
    "random_index = np.random.randint(0, len(X_test)-1)\n",
    "input_data = \"{\\\"data\\\": [\" + str(list(X_test[random_index])) + \"]}\"\n",
    "\n",
    "headers = {'Content-Type':'application/json'}\n",
    "\n",
    "prediction = aks_service.run(input_data = input_data)\n",
    "print(\"POST to url\", aks_service.scoring_uri)\n",
    "#print(\"input data:\", input_data)\n",
    "print(\"label:\", y_test[random_index])\n",
    "print(\"prediction:\", prediction)"
   ]
  },
  {
   "cell_type": "markdown",
   "metadata": {},
   "source": [
    "<h2>Cleanup</h2>"
   ]
  },
  {
   "cell_type": "code",
   "execution_count": 52,
   "metadata": {},
   "outputs": [],
   "source": [
    "aks_service.delete()\n",
    "aks_target.delete()"
   ]
  }
 ],
 "metadata": {
  "kernelspec": {
   "display_name": "Python 3",
   "language": "python",
   "name": "python3"
  },
  "language_info": {
   "codemirror_mode": {
    "name": "ipython",
    "version": 3
   },
   "file_extension": ".py",
   "mimetype": "text/x-python",
   "name": "python",
   "nbconvert_exporter": "python",
   "pygments_lexer": "ipython3",
   "version": "3.6.7"
  }
 },
 "nbformat": 4,
 "nbformat_minor": 2
}
